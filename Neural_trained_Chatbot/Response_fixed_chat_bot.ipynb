{
  "nbformat": 4,
  "nbformat_minor": 0,
  "metadata": {
    "colab": {
      "name": "Response-fixed-chat-bot.ipynb",
      "provenance": [],
      "mount_file_id": "10Ww-bpIedQudE4j4XnC9qzszJ4mHSejs",
      "authorship_tag": "ABX9TyP3FBrH8cEsoVZmvmz9a7Kw",
      "include_colab_link": true
    },
    "kernelspec": {
      "name": "python3",
      "display_name": "Python 3"
    },
    "accelerator": "GPU"
  },
  "cells": [
    {
      "cell_type": "markdown",
      "metadata": {
        "id": "view-in-github",
        "colab_type": "text"
      },
      "source": [
        "<a href=\"https://colab.research.google.com/github/hritvikgupta/Chatbot/blob/master/Response_fixed_chat_bot.ipynb\" target=\"_parent\"><img src=\"https://colab.research.google.com/assets/colab-badge.svg\" alt=\"Open In Colab\"/></a>"
      ]
    },
    {
      "cell_type": "code",
      "metadata": {
        "id": "wLCtFTCcDim1",
        "colab_type": "code",
        "colab": {
          "base_uri": "https://localhost:8080/",
          "height": 121
        },
        "outputId": "6a38cd9b-7058-430f-fdcd-94350b2d4107"
      },
      "source": [
        "import nltk\n",
        "import numpy as np\n",
        "import random\n",
        "import string\n",
        "import re\n",
        "nltk.download('punkt')\n",
        "nltk.download('wordnet')\n",
        "\n",
        "nltk.download('stopwords')\n",
        "stopwords = nltk.corpus.stopwords.words(\"english\")"
      ],
      "execution_count": null,
      "outputs": [
        {
          "output_type": "stream",
          "text": [
            "[nltk_data] Downloading package punkt to /root/nltk_data...\n",
            "[nltk_data]   Unzipping tokenizers/punkt.zip.\n",
            "[nltk_data] Downloading package wordnet to /root/nltk_data...\n",
            "[nltk_data]   Unzipping corpora/wordnet.zip.\n",
            "[nltk_data] Downloading package stopwords to /root/nltk_data...\n",
            "[nltk_data]   Unzipping corpora/stopwords.zip.\n"
          ],
          "name": "stdout"
        }
      ]
    },
    {
      "cell_type": "code",
      "metadata": {
        "id": "7sUTDindswt0",
        "colab_type": "code",
        "colab": {}
      },
      "source": [
        "from sklearn.feature_extraction.text import TfidfVectorizer\n",
        "\n",
        "# below is used to find the similarity between words entered by the user\n",
        "# and the words in the corpus this is simpled possible implementation of the chat box\n",
        "from sklearn.metrics.pairwise import cosine_similarity"
      ],
      "execution_count": null,
      "outputs": []
    },
    {
      "cell_type": "code",
      "metadata": {
        "id": "JotngOFnE41s",
        "colab_type": "code",
        "colab": {}
      },
      "source": [
        "f = open('/content/drive/My Drive/chatbot/c.txt','r', errors='ignore')\n",
        "raw = f.read()\n",
        "raw = raw.lower()\n",
        "# convert it into list of sentences\n",
        "sent_tokens = nltk.sent_tokenize(raw)"
      ],
      "execution_count": null,
      "outputs": []
    },
    {
      "cell_type": "code",
      "metadata": {
        "id": "jZt1DJpLKSGL",
        "colab_type": "code",
        "colab": {
          "base_uri": "https://localhost:8080/",
          "height": 54
        },
        "outputId": "e86ba343-f0f4-4df5-ef8d-2267503f6a91"
      },
      "source": [
        "raw"
      ],
      "execution_count": null,
      "outputs": [
        {
          "output_type": "execute_result",
          "data": {
            "text/plain": [
              "'\\ufeff\\n\\n\\njump to navigation jump to search \\nfor other uses, see chatbot (disambiguation).\\n \\na virtual assistant chatbot\\n \\na chatbot is a software application used to conduct an on-line chat conversation via text or text-to-speech, in lieu of providing direct contact with a live human agent.[1] designed to convincingly simulate the way a human would behave as a conversational partner, chatbot systems typically require continuous tuning and testing, and many in production remain unable to adequately converse or pass the industry standard turing test.[2] the term \"chatterbot\" was originally coined by michael mauldin (creator of the first verbot) in 1994 to describe these conversational programs.[3] \\nchatbots are typically used in dialog systems for various purposes including customer service, request routing, or for information gathering. while some chatbot applications use extensive word-classification processes, natural language processors, and sophisticated ai, others simply scan for general keywords and generate responses using common phrases obtained from an associated library or database. \\ntoday, most chatbots are accessed on-line via website popups, or through virtual assistants such as google assistant, amazon alexa, or messaging apps such as facebook messenger or wechat.[4][5] chatbots are typically classified into usage categories that include: commerce (e-commerce via chat), education, entertainment, finance, health, news, and productivity.[6] \\ncontents\\n    • 1 background \\n    • 2 development \\n    • 3 application \\n        ◦ 3.1 messaging apps \\n            ▪ 3.1.1 as part of company apps and websites \\n            ▪ 3.1.2 chatbot sequences \\n        ◦ 3.2 company internal platforms \\n        ◦ 3.3 customer service \\n        ◦ 3.4 healthcare \\n        ◦ 3.5 politics \\n        ◦ 3.6 toys \\n    • 4 malicious use \\n    • 5 limitations of chatbots \\n    • 6 chatbots and jobs \\n    • 7 see also \\n    • 8 references \\n        ◦ 8.1 further reading \\nbackground\\nin 1950, alan turing\\'s famous article \"computing machinery and intelligence\" was published,[7] which proposed what is now called the turing test as a criterion of intelligence. this criterion depends on the ability of a computer program to impersonate a human in a real-time written conversation with a human judge to the extent that the judge is unable to distinguish reliably—on the basis of the conversational content alone—between the program and a real human. the notoriety of turing\\'s proposed test stimulated great interest in joseph weizenbaum\\'s program eliza, published in 1966, which seemed to be able to fool users into believing that they were conversing with a real human. however weizenbaum himself did not claim that eliza was genuinely intelligent, and the introduction to his paper presented it more as a debunking exercise: \\n[in] artificial intelligence ... machines are made to behave in wondrous ways, often sufficient to dazzle even the most experienced observer. but once a particular program is unmasked, once its inner workings are explained ... its magic crumbles away; it stands revealed as a mere collection of procedures ... the observer says to himself \"i could have written that\". with that thought, he moves the program in question from the shelf marked \"intelligent\", to that reserved for curios ... the object of this paper is to cause just such a re-evaluation of the program about to be \"explained\". few programs ever needed it more.[8]\\neliza\\'s key method of operation (copied by chatbot designers ever since) involves the recognition of clue words or phrases in the input, and the output of corresponding pre-prepared or pre-programmed responses that can move the conversation forward in an apparently meaningful way (e.g. by responding to any input that contains the word \\'mother\\' with \\'tell me more about your family\\').[9] thus an illusion of understanding is generated, even though the processing involved has been merely superficial. eliza showed that such an illusion is surprisingly easy to generate because human judges are so ready to give the benefit of the doubt when conversational responses are capable of being interpreted as \"intelligent\". \\ninterface designers have come to appreciate that humans\\' readiness to interpret computer output as genuinely conversational—even when it is actually based on rather simple pattern-matching—can be exploited for useful purposes. most people prefer to engage with programs that are human-like, and this gives chatbot-style techniques a potentially useful role in interactive systems that need to elicit information from users, as long as that information is relatively straightforward and falls into predictable categories. thus, for example, online help systems can usefully employ chatbot techniques to identify the area of help that users require, potentially providing a \"friendlier\" interface than a more formal search or menu system. this sort of usage holds the prospect of moving chatbot technology from weizenbaum\\'s \"shelf ... reserved for curios\" to that marked \"genuinely useful computational methods\". \\ndevelopment\\namong the most notable early chatbots are eliza (1966) and parry (1972).[10][11][12][13] more recent notable programs include a.l.i.c.e., jabberwacky and d.u.d.e (agence nationale de la recherche and cnrs 2006). while eliza and parry were used exclusively to simulate typed conversation, many chatbots now include other functional features, such as games and web searching abilities. in 1984, a book called the policeman\\'s beard is half constructed was published, allegedly written by the chatbot racter (though the program as released would not have been capable of doing so).[14] \\none pertinent field of ai research is natural language processing. usually, weak ai fields employ specialized software or programming languages created specifically for the narrow function required. for example, a.l.i.c.e. uses a markup language called aiml, which is specific to its function as a conversational agent, and has since been adopted by various other developers of, so-called, alicebots. nevertheless, a.l.i.c.e. is still purely based on pattern matching techniques without any reasoning capabilities, the same technique eliza was using back in 1966. this is not strong ai, which would require sapience and logical reasoning abilities. \\njabberwacky learns new responses and context based on real-time user interactions, rather than being driven from a static database. some more recent chatbots also combine real-time learning with evolutionary algorithms that optimise their ability to communicate based on each conversation held. still, there is currently no general purpose conversational artificial intelligence, and some software developers focus on the practical aspect, information retrieval. \\nchatbot competitions focus on the turing test or more specific goals. two such annual contests are the loebner prize and the chatterbox challenge (the latter has been offline since 2015, however, materials can still be found from web archives).[15] \\ndbpedia created a chatbot during the gsoc of 2017.[16][17][18] and can communicate through facebook messenger. dbpedia started in 2007 and allows to extract structured content from the wikipedia dataset, along with many other datasets. dbpedia is currently one of the biggest representatives of linked open data (lod).[19] \\napplication\\nsee also: virtual assistant\\nmessaging apps\\nmany companies\\' chatbots run on messaging apps or simply via sms. they are used for b2c customer service, sales and marketing.[20] \\nin 2016, facebook messenger allowed developers to place chatbots on their platform. there were 30,000 bots created for messenger in the first six months, rising to 100,000 by september 2017.[21] \\nsince september 2017, this has also been as part of a pilot program on whatsapp. airlines klm and aeroméxico both announced their participation in the testing;[22][23][24][25] both airlines had previously launched customer services on the facebook messenger platform. \\nthe bots usually appear as one of the user\\'s contacts, but can sometimes act as participants in a group chat. \\nmany banks, insurers, media companies, e-commerce companies, airlines, hotel chains, retailers, health care providers, government entities and restaurant chains have used chatbots to answer simple questions, increase customer engagement,[26] for promotion, and to offer additional ways to order from them.[27][28] \\na 2017 study showed 4% of companies used chatbots.[29] according to a 2016 study, 80% of businesses said they intended to have one by 2020.[30] \\nas part of company apps and websites\\nprevious generations of chatbots were present on company websites, e.g. ask jenn from alaska airlines which debuted in 2008[31] or expedia\\'s virtual customer service agent which launched in 2011.[31][32] the newer generation of chatbots includes ibm watson-powered \"rocky\", introduced in february 2017 by the new york city-based e-commerce company rare carat to provide information to prospective diamond buyers.[33][34] \\nchatbot sequences\\nused by marketers to script sequences of messages, very similar to an autoresponder sequence. such sequences can be triggered by user opt-in or the use of keywords within user interactions. after a trigger occurs a sequence of messages is delivered until the next anticipated user response. each user response is used in the decision tree to help the chatbot navigate the response sequences to deliver the correct response message. \\ncompany internal platforms\\nother companies explore ways they can use chatbots internally, for example for customer support, human resources, or even in internet-of-things (iot) projects. overstock.com, for one, has reportedly launched a chatbot named mila to automate certain simple yet time-consuming processes when requesting for a sick leave.[35] other large companies such as lloyds banking group, royal bank of scotland, renault and citroën are now using automated online assistants instead of call centres with humans to provide a first point of contact. a saas chatbot business ecosystem has been steadily growing since the f8 conference when facebook\\'s mark zuckerberg unveiled that messenger would allow chatbots into the app.[36] in large companies, like in hospitals and aviation organizations, it architects are designing reference architectures for intelligent chatbots that are used to unlock and share knowledge and experience in the organization more efficiently, and reduce the errors in answers from expert service desks significantly.[37] these intelligent chatbots make use of all kinds of artificial intelligence like image moderation and natural language understanding (nlu), natural language generation (nlg), machine learning and deep learning. \\ncustomer service\\nmany high-tech banking organizations are looking to integrate automated ai-based solutions such as chatbots into their customer service in order to provide faster and cheaper assistance to their clients who are becoming increasingly comfortable with technology. in particular, chatbots can efficiently conduct a dialogue, usually replacing other communication tools such as email, phone, or sms. in banking, their major application is related to quick customer service answering common requests, as well as transactional support. \\nseveral studies report significant reduction in the cost of customer services, expected to lead to billions of dollars of economic savings in the next 10 years.[38] in 2019, gartner predicted that by 2021, 15% of all customer service interactions globally will be handled completely by ai.[39] a study by juniper research in 2019 estimates retail sales resulting from chatbot-based interactions will reach $112 billion by 2023.[40] \\nsince 2016 when facebook allowed businesses to deliver automated customer support, e-commerce guidance, content and interactive experiences through chatbots, a large variety of chatbots were developed for the facebook messenger platform.[41] \\nin 2016, russia-based tochka bank launched the world\\'s first facebook bot for a range of financial services, including a possibility of making payments.[42] \\nin july 2016, barclays africa also launched a facebook chatbot, making it the first bank to do so in africa.[43] \\nthe france\\'s third largest bank by total assets[44] société générale launched their chatbot called sobot in march 2018. while 80% of users of the sobot expressed their satisfaction after having tested it, société générale deputy director bertrand cozzarolo stated that it will never replace the expertise provided by a human advisor. [45] \\nthe advantages of using chatbots for customer interactions in banking include cost reduction, financial advice, and 24/7 support.[46][47] \\nhealthcare\\nsee also: artificial intelligence in healthcare\\nchatbots are also appearing in the healthcare industry.[48][49][50] a study suggested that physicians in the united states believed that chatbots would be most beneficial for scheduling doctor appointments, locating health clinics, or providing medication information.[51] \\ncertain patient groups are still reluctant to use chatbots. a mixed-methods study showed that people are still hesitant to use chatbots for their healthcare due to poor understanding of the technological complexity, the lack of empathy and concerns about cyber-security.[52] the analysis showed that while 6% had heard of a health chatbot and 3% had experience of using it, 67% perceived themselves as likely to use one within 12 months. the majority of participants would use a health chatbot for seeking general health information (78%), booking a medical appointment (78%) and looking for local health services (80%). however, a health chatbot was perceived as less suitable for seeking results of medical tests and seeking specialist advice such as sexual health. the analysis of attitudinal variables showed that most participants reported their preference for discussing their health with doctors (73%) and having access to reliable and accurate health information (93%). while 80% were curious about new technologies that could improve their health, 66% reported only seeking a doctor when experiencing a health problem and 65% thought that a chatbot was a good idea. interestingly, 30% reported dislike about talking to computers, 41% felt it would be strange to discuss health matters with a chatbot and about half were unsure if they could trust the advice given by a chatbot. therefore, perceived trustworthiness, individual attitudes towards bots and dislike for talking to computers are the main barriers to health chatbots. \\nduring the covid-19 pandemic, many chatbots were deployed to provide information to end users.[53] \\npolitics\\nsee also: government by algorithm §\\xa0ai politicians\\nin new zealand, the chatbot sam -short for semantic analysis machine-[54] (made by nick gerritsen of touchtech[55]) has been developed. it is designed to share its political thoughts, for example on topics such as climate change, healthcare and education, etc. it talks to people through facebook messenger.[56][57][58][59] \\ntoys\\nchatbots have also been incorporated into devices not primarily meant for computing, such as toys.[60] \\nhello barbie is an internet-connected version of the doll that uses a chatbot provided by the company toytalk,[61] which previously used the chatbot for a range of smartphone-based characters for children.[62] these characters\\' behaviors are constrained by a set of rules that in effect emulate a particular character and produce a storyline.[63] \\nthe my friend cayla doll was marketed as a line of 18-inch (46\\xa0cm) dolls which uses speech recognition technology in conjunction with an android or ios mobile app to recognize the child\\'s speech and have a conversation. it, like the hello barbie doll, attracted controversy due to vulnerabilities with the doll\\'s bluetooth stack and its use of data collected from the child\\'s speech. \\nibm\\'s watson computer has been used as the basis for chatbot-based educational toys for companies such as cognitoys[60] intended to interact with children for educational purposes.[64] \\nmalicious use\\nmalicious chatbots are frequently used to fill chat rooms with spam and advertisements, by mimicking human behavior and conversations or to entice people into revealing personal information, such as bank account numbers. they are commonly found on yahoo! messenger, windows live messenger, aol instant messenger and other instant messaging protocols. there has also been a published report of a chatbot used in a fake personal ad on a dating service\\'s website.[65] \\ntay, an ai chatbot that learns from previous interaction, caused major controversy due to it being targeted by internet trolls on twitter. the bot was exploited, and after 16 hours began to send extremely offensive tweets to users. this suggests that although the bot learnt effectively from experience, adequate protection was not put in place to prevent misuse.[66] \\nif a text-sending algorithm can pass itself off as a human instead of a chatbot, its message would be more credible. therefore, human-seeming chatbots with well-crafted online identities could start scattering fake news that seem plausible, for instance making false claims during a presidential election. with enough chatbots, it might be even possible to achieve artificial social proof.[67][68] \\nlimitations of chatbots\\nthe creation and implementation of chatbots is still a developing area, heavily related to artificial intelligence and machine learning, so the provided solutions, while possessing obvious advantages, have some important limitations in terms of functionalities and use cases. however this is changing over time. \\nthe most common ones are listed below:[69] \\n    • as the database, used for output generation, is fixed and limited, chatbots can fail while dealing with an unsaved query.[47] \\n    • a chatbot\\'s efficiency highly depends on language processing and is limited because of irregularities, such as accents and mistakes that can create an important barrier for international and multi-cultural organisations[70] \\n    • chatbots are unable to deal with multiple questions at the same time and so conversation opportunities are limited.[69] \\n    • chatbots require a large amount of conversational data to train. \\n    • as it happens usually with technology-led changes in existing services, some consumers, more often than not from the old generation, are uncomfortable with chatbots due to their limited understanding, making it obvious that their requests are being dealt with by machines.[69]\\nchatbots and jobs\\nchatbots are increasingly present in businesses and often are used to automate tasks that do not require skill-based talents. with customer service taking place via messaging apps as well as phone calls, there are growing numbers of use-cases where chatbot deployment gives organisations a clear return on investment. call centre workers may be particularly at risk from ai-driven chatbots.[71] \\na study by forrester (june 2017) predicts that 25% of today\\'s jobs will most likely be impacted by ai technologies by 2019.[72] \\n\\n'"
            ]
          },
          "metadata": {
            "tags": []
          },
          "execution_count": 13
        }
      ]
    },
    {
      "cell_type": "code",
      "metadata": {
        "id": "djRqOwiFFrPm",
        "colab_type": "code",
        "colab": {}
      },
      "source": [
        "# convert it into the list of words\n",
        "words_tokens = nltk.word_tokenize(raw)"
      ],
      "execution_count": null,
      "outputs": []
    },
    {
      "cell_type": "code",
      "metadata": {
        "id": "TrsKkwDnGR_m",
        "colab_type": "code",
        "colab": {
          "base_uri": "https://localhost:8080/",
          "height": 34
        },
        "outputId": "2093843c-da56-43c7-a0fa-afd75bc3d880"
      },
      "source": [
        "words_tokens[:2]"
      ],
      "execution_count": null,
      "outputs": [
        {
          "output_type": "execute_result",
          "data": {
            "text/plain": [
              "['\\ufeff', 'jump']"
            ]
          },
          "metadata": {
            "tags": []
          },
          "execution_count": 5
        }
      ]
    },
    {
      "cell_type": "markdown",
      "metadata": {
        "id": "isFZkz55GpRb",
        "colab_type": "text"
      },
      "source": [
        "## PreProcessing the Raw text\n",
        "* Removing the punctuation\n",
        "* lemmatizing the word\n",
        "** we Lemmatize the word using the WordNetLemmatizer"
      ]
    },
    {
      "cell_type": "code",
      "metadata": {
        "id": "rqM83zPyGxpJ",
        "colab_type": "code",
        "colab": {}
      },
      "source": [
        "lemmer = nltk.stem.WordNetLemmatizer()\n",
        "#WordNet is a semantically-oriented dictionary of English included in NLTK.\n",
        "def clean_text(text):\n",
        "    text = \"\".join([word.lower() for word in text if word not in string.punctuation])\n",
        "    tokens = re.split('\\W+', text)\n",
        "    text = [lemmer.lemmatize(word) for word in tokens if word not in stopwords]\n",
        "    return text"
      ],
      "execution_count": null,
      "outputs": []
    },
    {
      "cell_type": "markdown",
      "metadata": {
        "id": "g0b0SOY1OQ47",
        "colab_type": "text"
      },
      "source": [
        "## Keyowrd Matching\n",
        "* we definr a function for a greeting by bit, if user input the greeting the bot shall return a greeting response"
      ]
    },
    {
      "cell_type": "code",
      "metadata": {
        "id": "znJcvM7ROrMl",
        "colab_type": "code",
        "colab": {}
      },
      "source": [
        "GREETING_INPUTS = ('hello','hi', 'greetings', 'sup', \"what's up\", 'hey')\n",
        "GREETING_RESPONSES = ['hi', 'hey','\"nods\"', 'hi there', 'hello','I am glad you are talking to me']\n",
        "\n",
        "def greeting(sentence):\n",
        "  for word in sentence.split():\n",
        "    if word.lower() in GREETING_INPUTS:\n",
        "      return random.choice(GREETING_RESPONSES)\n",
        "\n",
        "      "
      ],
      "execution_count": null,
      "outputs": []
    },
    {
      "cell_type": "markdown",
      "metadata": {
        "id": "FCFNR8RiuXmK",
        "colab_type": "text"
      },
      "source": [
        "This will be used to find the similarity between words entered by the user and the words in the corpus. This is the simplest possible implementation of a chatbot.\n",
        "\n",
        "We define a function response which searches the user’s utterance for one or more known keywords and returns one of several possible responses. If it doesn’t find the input matching any of the keywords, it returns a response:” I am sorry! I don’t understand you”"
      ]
    },
    {
      "cell_type": "code",
      "metadata": {
        "id": "Mg7LjdxluJtc",
        "colab_type": "code",
        "colab": {}
      },
      "source": [
        "from sklearn.metrics.pairwise import cosine_similarity"
      ],
      "execution_count": null,
      "outputs": []
    },
    {
      "cell_type": "code",
      "metadata": {
        "id": "GGk_j8H8ubix",
        "colab_type": "code",
        "colab": {}
      },
      "source": [
        "def response(user_response):\n",
        "    robo_response=''\n",
        "    sent_tokens.append(user_response)  \n",
        "    TfidfVec = TfidfVectorizer(tokenizer=clean_text)\n",
        "    tfidf = TfidfVec.fit_transform(sent_tokens)\n",
        "    vals = cosine_similarity(tfidf[-1], tfidf)\n",
        "    idx=vals.argsort()[0][-2]\n",
        "    flat = vals.flatten()\n",
        "    flat.sort()\n",
        "    req_tfidf = flat[-2]  \n",
        "    if(req_tfidf==0):\n",
        "        robo_response=robo_response+\"I am sorry! I don't understand you\"\n",
        "        return robo_response\n",
        "    else:\n",
        "        robo_response = robo_response+sent_tokens[idx]\n",
        "        return robo_response"
      ],
      "execution_count": null,
      "outputs": []
    },
    {
      "cell_type": "markdown",
      "metadata": {
        "id": "wYbx4tQYwbnA",
        "colab_type": "text"
      },
      "source": [
        " We finally feed the lines that we want our bot to say while starting and ending of the conversation depending on the user input"
      ]
    },
    {
      "cell_type": "code",
      "metadata": {
        "id": "rBkBr2pQwrab",
        "colab_type": "code",
        "colab": {
          "base_uri": "https://localhost:8080/",
          "height": 89
        },
        "outputId": "89094593-b920-4ee8-a103-e899e5d12689"
      },
      "source": [
        "\n",
        "flag = True\n",
        "print(\"Robo my name is robo i will answr your queries about chatbots if you wnat to exit type bye\")\n",
        "while flag==True:\n",
        "  user_response = input()\n",
        "  user_response = user_response.lower()\n",
        "  if user_response != 'bye':\n",
        "    if user_response=='thanks' or user_response == 'thank you':\n",
        "      flag = False\n",
        "      print('Robo: you are welcome')\n",
        "    else:\n",
        "      if (greeting(user_response) != None):\n",
        "        print(\"ROBO: \"+greeting(user_response))  \n",
        "      else:\n",
        "        print(\"ROBO:\", end= \"\")  \n",
        "        print(response(user_response))\n",
        "        sent_tokens.remove(user_response)\n",
        "  else:\n",
        "    flag = False\n",
        "    print(\"ROBO: BYE Take Care: \")      "
      ],
      "execution_count": null,
      "outputs": [
        {
          "output_type": "stream",
          "text": [
            "Robo my name is robo i will answr your queries about chatbots if you wnat to exit type bye\n",
            "bye\n",
            "ROBO: BYE Take Care: \n"
          ],
          "name": "stdout"
        }
      ]
    },
    {
      "cell_type": "code",
      "metadata": {
        "id": "-C9o7IE009Ip",
        "colab_type": "code",
        "colab": {
          "base_uri": "https://localhost:8080/",
          "height": 132
        },
        "outputId": "36539331-07f8-44ae-b7ee-6f6ad769e61c"
      },
      "source": [
        "whawhvhow are glacier caves formed ?byehow h"
      ],
      "execution_count": null,
      "outputs": [
        {
          "output_type": "error",
          "ename": "SyntaxError",
          "evalue": "ignored",
          "traceback": [
            "\u001b[0;36m  File \u001b[0;32m\"<ipython-input-11-a558e99b3d42>\"\u001b[0;36m, line \u001b[0;32m1\u001b[0m\n\u001b[0;31m    whawhvhow are glacier caves formed ?byehow h\u001b[0m\n\u001b[0m                ^\u001b[0m\n\u001b[0;31mSyntaxError\u001b[0m\u001b[0;31m:\u001b[0m invalid syntax\n"
          ]
        }
      ]
    },
    {
      "cell_type": "code",
      "metadata": {
        "id": "6WEFg_Ah2ymM",
        "colab_type": "code",
        "colab": {}
      },
      "source": [
        ""
      ],
      "execution_count": null,
      "outputs": []
    }
  ]
}