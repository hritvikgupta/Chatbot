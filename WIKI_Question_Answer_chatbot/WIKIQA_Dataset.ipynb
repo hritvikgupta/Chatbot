{
  "nbformat": 4,
  "nbformat_minor": 0,
  "metadata": {
    "colab": {
      "name": "WIKIQA-Dataset.ipynb",
      "provenance": [],
      "mount_file_id": "16zlgjk1hoAlfegwjrR5ib6pdNksBOflo",
      "authorship_tag": "ABX9TyOtzUWDR47jpXNT/WtDsLmC",
      "include_colab_link": true
    },
    "kernelspec": {
      "name": "python3",
      "display_name": "Python 3"
    },
    "accelerator": "GPU"
  },
  "cells": [
    {
      "cell_type": "markdown",
      "metadata": {
        "id": "view-in-github",
        "colab_type": "text"
      },
      "source": [
        "<a href=\"https://colab.research.google.com/github/hritvikgupta/Chatbot/blob/master/WIKIQA_Dataset.ipynb\" target=\"_parent\"><img src=\"https://colab.research.google.com/assets/colab-badge.svg\" alt=\"Open In Colab\"/></a>"
      ]
    },
    {
      "cell_type": "code",
      "metadata": {
        "id": "wLCtFTCcDim1",
        "colab_type": "code",
        "colab": {
          "base_uri": "https://localhost:8080/",
          "height": 139
        },
        "outputId": "fd3427e5-4385-4831-c2d4-b9cb5fa63b7b"
      },
      "source": [
        "import nltk\n",
        "import numpy as np\n",
        "import random\n",
        "import string\n",
        "import re\n",
        "nltk.download('punkt')\n",
        "\n",
        "nltk.download('stopwords')\n",
        "stopwords = nltk.corpus.stopwords.words(\"english\")\n",
        "nltk.download('wordnet')"
      ],
      "execution_count": null,
      "outputs": [
        {
          "output_type": "stream",
          "text": [
            "[nltk_data] Downloading package punkt to /root/nltk_data...\n",
            "[nltk_data]   Unzipping tokenizers/punkt.zip.\n",
            "[nltk_data] Downloading package stopwords to /root/nltk_data...\n",
            "[nltk_data]   Unzipping corpora/stopwords.zip.\n",
            "[nltk_data] Downloading package wordnet to /root/nltk_data...\n",
            "[nltk_data]   Unzipping corpora/wordnet.zip.\n"
          ],
          "name": "stdout"
        },
        {
          "output_type": "execute_result",
          "data": {
            "text/plain": [
              "True"
            ]
          },
          "metadata": {
            "tags": []
          },
          "execution_count": 1
        }
      ]
    },
    {
      "cell_type": "code",
      "metadata": {
        "id": "7sUTDindswt0",
        "colab_type": "code",
        "colab": {}
      },
      "source": [
        "from sklearn.feature_extraction.text import TfidfVectorizer\n",
        "\n",
        "# below is used to find the similarity between words entered by the user\n",
        "# and the words in the corpus this is simpled possible implementation of the chat box\n",
        "from sklearn.metrics.pairwise import cosine_similarity"
      ],
      "execution_count": null,
      "outputs": []
    },
    {
      "cell_type": "code",
      "metadata": {
        "id": "JotngOFnE41s",
        "colab_type": "code",
        "colab": {}
      },
      "source": [
        "f = open('/content/drive/My Drive/chatbot/WikiQA-train.txt','r', errors='ignore')\n",
        "raw = f.read()\n",
        "raw = raw.lower()\n",
        "# convert it into list of sentences\n",
        "sent_tokens = nltk.sent_tokenize(raw)"
      ],
      "execution_count": null,
      "outputs": []
    },
    {
      "cell_type": "code",
      "metadata": {
        "id": "djRqOwiFFrPm",
        "colab_type": "code",
        "colab": {}
      },
      "source": [
        "# convert it into the list of words\n",
        "words_tokens = nltk.word_tokenize(raw)"
      ],
      "execution_count": null,
      "outputs": []
    },
    {
      "cell_type": "code",
      "metadata": {
        "id": "TrsKkwDnGR_m",
        "colab_type": "code",
        "colab": {
          "base_uri": "https://localhost:8080/",
          "height": 34
        },
        "outputId": "dd156d7c-ede9-4ed8-814d-bfd797a14746"
      },
      "source": [
        "words_tokens[:2]"
      ],
      "execution_count": null,
      "outputs": [
        {
          "output_type": "execute_result",
          "data": {
            "text/plain": [
              "['how', 'are']"
            ]
          },
          "metadata": {
            "tags": []
          },
          "execution_count": 5
        }
      ]
    },
    {
      "cell_type": "markdown",
      "metadata": {
        "id": "isFZkz55GpRb",
        "colab_type": "text"
      },
      "source": [
        "## PreProcessing the Raw text\n",
        "* Removing the punctuation\n",
        "* lemmatizing the word\n",
        "** we Lemmatize the word using the WordNetLemmatizer"
      ]
    },
    {
      "cell_type": "code",
      "metadata": {
        "id": "rqM83zPyGxpJ",
        "colab_type": "code",
        "colab": {}
      },
      "source": [
        "lemmer = nltk.stem.WordNetLemmatizer()\n",
        "#WordNet is a semantically-oriented dictionary of English included in NLTK.\n",
        "def LemTokens(tokens):\n",
        "    return [lemmer.lemmatize(token) for token in tokens]\n",
        "remove_punct_dict = dict((ord(punct), None) for punct in string.punctuation)\n",
        "def LemNormalize(text):\n",
        "    return LemTokens(nltk.word_tokenize(text.lower().translate(remove_punct_dict)))\n",
        "\n"
      ],
      "execution_count": null,
      "outputs": []
    },
    {
      "cell_type": "markdown",
      "metadata": {
        "id": "g0b0SOY1OQ47",
        "colab_type": "text"
      },
      "source": [
        "## Keyowrd Matching\n",
        "* we definr a function for a greeting by bit, if user input the greeting the bot shall return a greeting response"
      ]
    },
    {
      "cell_type": "code",
      "metadata": {
        "id": "znJcvM7ROrMl",
        "colab_type": "code",
        "colab": {}
      },
      "source": [
        "GREETING_INPUTS = ('hello','hi', 'greetings', 'sup', \"what's up\", 'hey')\n",
        "GREETING_RESPONSES = ['hi', 'hey','\"nods\"', 'hi there', 'hello','I am glad you are talking to me']\n",
        "\n",
        "def greeting(sentence):\n",
        "  for word in sentence.split():\n",
        "    if word.lower() in GREETING_INPUTS:\n",
        "      return random.choice(GREETING_RESPONSES)\n",
        "\n",
        "      "
      ],
      "execution_count": null,
      "outputs": []
    },
    {
      "cell_type": "markdown",
      "metadata": {
        "id": "FCFNR8RiuXmK",
        "colab_type": "text"
      },
      "source": [
        "This will be used to find the similarity between words entered by the user and the words in the corpus. This is the simplest possible implementation of a chatbot.\n",
        "\n",
        "We define a function response which searches the user’s utterance for one or more known keywords and returns one of several possible responses. If it doesn’t find the input matching any of the keywords, it returns a response:” I am sorry! I don’t understand you”"
      ]
    },
    {
      "cell_type": "code",
      "metadata": {
        "id": "Mg7LjdxluJtc",
        "colab_type": "code",
        "colab": {}
      },
      "source": [
        "from sklearn.metrics.pairwise import cosine_similarity"
      ],
      "execution_count": null,
      "outputs": []
    },
    {
      "cell_type": "code",
      "metadata": {
        "id": "GGk_j8H8ubix",
        "colab_type": "code",
        "colab": {}
      },
      "source": [
        "def response(user_response):\n",
        "  robo_response = ''\n",
        "  sent_tokens.append(user_response)\n",
        "\n",
        "  TfidfVec = TfidfVectorizer(tokenizer=clean_text) \n",
        "  tfidf = TfidfVec.fit_transform(sent_tokens)\n",
        "  vals = cosine_similarity(tfidf[-1], tfidf)\n",
        "  idx = vals.argsort()[0]\n",
        "  flat = vals.flatten()\n",
        "  flat.sort()\n",
        "  req_tfidf = flat[-2]\n",
        "\n",
        "  if(req_tfidf==0):\n",
        "    robo_response = robo_resppnse+\"I am sorry I dont understand you\"\n",
        "    return robo_response\n",
        "  else:\n",
        "    robo_response = robo_response+sent_tokens[idx]  \n",
        "    return robo_response\n",
        "\n",
        "\n"
      ],
      "execution_count": null,
      "outputs": []
    },
    {
      "cell_type": "markdown",
      "metadata": {
        "id": "wYbx4tQYwbnA",
        "colab_type": "text"
      },
      "source": [
        " We finally feed the lines that we want our bot to say while starting and ending of the conversation depending on the user input"
      ]
    },
    {
      "cell_type": "code",
      "metadata": {
        "id": "rBkBr2pQwrab",
        "colab_type": "code",
        "colab": {
          "base_uri": "https://localhost:8080/",
          "height": 89
        },
        "outputId": "501c3ce8-0522-4791-b58e-a87ad44cf405"
      },
      "source": [
        "\n",
        "flag = True\n",
        "print(\"Robo my name is robo i will answr your queries about chatbots if you wnat to exit type bye\")\n",
        "while flag==True:\n",
        "  user_response = input()\n",
        "  user_response = user_response.lower()\n",
        "  if user_response != 'bye':\n",
        "    if user_response=='thanks' or user_response == 'thank you':\n",
        "      flag = False\n",
        "      print('Robo: you are welcome')\n",
        "    else:\n",
        "      if (greeting(user_response) != None):\n",
        "        print(\"ROBO: \"+greeting(user_response))  \n",
        "      else:\n",
        "        print(\"ROBO:\", end= \"\")  \n",
        "        print(response(user_response))\n",
        "        sent_tokens.remove(user_response)\n",
        "  else:\n",
        "    flag = False\n",
        "    print(\"ROBO: BYE Take Care: \")      "
      ],
      "execution_count": null,
      "outputs": [
        {
          "output_type": "stream",
          "text": [
            "Robo my name is robo i will answr your queries about chatbots if you wnat to exit type bye\n",
            "ROBO:0\n",
            "how are the directions of the velocity and force vectors related in a circular motion\tthe equations of motion describe the movement of the center of mass of a body .\n"
          ],
          "name": "stdout"
        }
      ]
    },
    {
      "cell_type": "code",
      "metadata": {
        "id": "-C9o7IE009Ip",
        "colab_type": "code",
        "colab": {
          "base_uri": "https://localhost:8080/",
          "height": 132
        },
        "outputId": "40536f3d-acb0-4b50-f922-252e1006f35f"
      },
      "source": [
        "vhow are glacier caves formed ?byehow h"
      ],
      "execution_count": null,
      "outputs": [
        {
          "output_type": "error",
          "ename": "SyntaxError",
          "evalue": "ignored",
          "traceback": [
            "\u001b[0;36m  File \u001b[0;32m\"<ipython-input-31-30f373b20bb3>\"\u001b[0;36m, line \u001b[0;32m1\u001b[0m\n\u001b[0;31m    how h\u001b[0m\n\u001b[0m        ^\u001b[0m\n\u001b[0;31mSyntaxError\u001b[0m\u001b[0;31m:\u001b[0m invalid syntax\n"
          ]
        }
      ]
    },
    {
      "cell_type": "code",
      "metadata": {
        "id": "6WEFg_Ah2ymM",
        "colab_type": "code",
        "colab": {}
      },
      "source": [
        ""
      ],
      "execution_count": null,
      "outputs": []
    }
  ]
}